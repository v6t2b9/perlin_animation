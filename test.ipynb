{
 "cells": [
  {
   "cell_type": "code",
   "execution_count": null,
   "id": "60f0e0e2-b536-4ec9-9095-5195ba66d448",
   "metadata": {},
   "outputs": [
    {
     "name": "stdout",
     "output_type": "stream",
     "text": [
      "Aus welcher Datei sollen die Parameter geladen werden? (0 bis 2)\n",
      "0: params/default_params.json\n",
      "1: params/params.json\n",
      "2: params/iphone12.json\n"
     ]
    },
    {
     "name": "stdin",
     "output_type": "stream",
     "text": [
      ">  2\n"
     ]
    }
   ],
   "source": [
    "#import utils.functions as func\n",
    "\n",
    "import src.file_handling as file_handling\n",
    "import src.animation_generation as animation_generation\n",
    "import src.image_generation as image_generation\n",
    "import src.user_interface as user_interface\n",
    "\n",
    "import matplotlib.pyplot as plt\n",
    "\n",
    "def main():\n",
    "    \"\"\"\n",
    "    Hauptfunktion des Skripts.\n",
    "\n",
    "    Initialisiert die Parameter, generiert ein Bild, zeigt es an, erstellt eine Animation und speichert sie in einer Datei.\n",
    "    \"\"\"\n",
    "    params_datei = user_interface.user_params_datei_auswahl()\n",
    "\n",
    "    #params = file_handling.laden_params('params/default_params.json')\n",
    "    params = file_handling.laden_params(params_datei)\n",
    "\n",
    "    auswahl = user_interface.benutzer_parameter_abfrage()\n",
    "    \n",
    "    if auswahl == '2':\n",
    "        # User Eingabe zur Bestimmung der Parameter\n",
    "        params_datei = user_interface.benutzer_parameter_eingabe_und_speichern(params)\n",
    "            \n",
    "    #else:\n",
    "        # User Eingabe zur Auswahl der params Datei\n",
    "        #params_datei = user_interface.user_params_datei_auswahl()\n",
    "        \n",
    "    # Laden Sie die Parameter aus der Datei\n",
    "    params = file_handling.laden_params(params_datei)\n",
    "\n",
    "    # Speichern Sie die Parameter in einer Datei\n",
    "    file_handling.speichern_params(params, 'params/params.json')\n",
    "\n",
    "    # Laden Sie die Parameter aus der Datei\n",
    "    #params = file_handling.laden_params('params/params.json')\n",
    "\n",
    "    # Generieren Sie ein Bild\n",
    "    image = image_generation.generiere_bild(params)\n",
    "        \n",
    "    # Zeige das Bild an\n",
    "    image_generation.show_image(image, (16, 16))\n",
    "\n",
    "    # Erstelle und speichere die Animation\n",
    "    animation_breite = input('Breite der Animation in Pixel: ')\n",
    "    animation_hoehe = input('Höhe der Animation in Pixel: ')\n",
    "    animation_dateiname = input('Mit welchem Namen soll die gif-Datei gespeichert werden?\\n> ')\n",
    "    \n",
    "    animation_generation.erstelle_und_speichere_animation(params, f'export/{animation_dateiname}.gif', (animation_breite,animation_hoehe), 100)\n",
    "\n",
    "if __name__ == \"__main__\":\n",
    "    main()"
   ]
  },
  {
   "cell_type": "code",
   "execution_count": null,
   "id": "dba403f2-8f69-4208-a3fa-2bd923eb707a",
   "metadata": {},
   "outputs": [],
   "source": []
  },
  {
   "cell_type": "code",
   "execution_count": null,
   "id": "2ac731d4-ae18-4162-911b-ed4e5784d4ae",
   "metadata": {},
   "outputs": [],
   "source": []
  },
  {
   "cell_type": "code",
   "execution_count": 7,
   "id": "dfaadeda-fdf7-4736-98f2-119582292cc3",
   "metadata": {},
   "outputs": [
    {
     "data": {
      "text/plain": [
       "2.164102564102564"
      ]
     },
     "execution_count": 7,
     "metadata": {},
     "output_type": "execute_result"
    }
   ],
   "source": [
    "2532 / 1170"
   ]
  },
  {
   "cell_type": "code",
   "execution_count": 3,
   "id": "3b3f8660-083c-4ca7-8658-2a03463498c2",
   "metadata": {},
   "outputs": [
    {
     "name": "stdout",
     "output_type": "stream",
     "text": [
      "422.0 195.0\n"
     ]
    }
   ],
   "source": [
    "z = 6\n",
    "x = 2532 / z\n",
    "y = 1170 / z\n",
    "\n",
    "print(x, y)"
   ]
  },
  {
   "cell_type": "code",
   "execution_count": null,
   "id": "182e4c0f-9590-4b9b-b08d-bc481d683e96",
   "metadata": {},
   "outputs": [],
   "source": []
  }
 ],
 "metadata": {
  "kernelspec": {
   "display_name": "Python 3 (ipykernel)",
   "language": "python",
   "name": "python3"
  },
  "language_info": {
   "codemirror_mode": {
    "name": "ipython",
    "version": 3
   },
   "file_extension": ".py",
   "mimetype": "text/x-python",
   "name": "python",
   "nbconvert_exporter": "python",
   "pygments_lexer": "ipython3",
   "version": "3.8.2"
  }
 },
 "nbformat": 4,
 "nbformat_minor": 5
}
